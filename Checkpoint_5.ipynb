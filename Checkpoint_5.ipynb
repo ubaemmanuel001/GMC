{
  "nbformat": 4,
  "nbformat_minor": 0,
  "metadata": {
    "colab": {
      "provenance": [],
      "mount_file_id": "1X-HxUTmrwf92KGbs6Ff2FN_9XMRKPslo",
      "authorship_tag": "ABX9TyNov9e7qw/vQkUkbBN/+pUV"
    },
    "kernelspec": {
      "name": "python3",
      "display_name": "Python 3"
    },
    "language_info": {
      "name": "python"
    }
  },
  "cells": [
    {
      "cell_type": "markdown",
      "source": [
        "# Checkpoint #5"
      ],
      "metadata": {
        "id": "ZFaIeuzXc4_J"
      }
    },
    {
      "cell_type": "code",
      "source": [
        "import csv\n",
        "import random\n",
        "import math\n",
        "import operator\n",
        "\n",
        "\n",
        "def loadDataset(filename, split, trainingSet=[], testSet=[]):\n",
        "    with open(filename, 'r') as csvfile:\n",
        "        lines = csv.reader(csvfile)\n",
        "        dataset = list(lines)\n",
        "        for x in range(len(dataset)-1):\n",
        "            for y in range(4):\n",
        "                dataset[x][y] = float(dataset[x][y])\n",
        "            if random.random() < split:\n",
        "                trainingSet.append(dataset[x])\n",
        "            else:\n",
        "                testSet.append(dataset[x])\n",
        "\n",
        "# Example usage:\n",
        "trainingSet = []\n",
        "testSet = []\n",
        "loadDataset('/content/drive/MyDrive/Colab Notebooks/iris.data.txt', 0.66, trainingSet, testSet)\n",
        "print('Train: ' + repr(len(trainingSet)))\n",
        "print('Test: ' + repr(len(testSet)))"
      ],
      "metadata": {
        "colab": {
          "base_uri": "https://localhost:8080/"
        },
        "id": "zthiPbsmc7dc",
        "outputId": "7819e5a1-ae59-4f05-9e13-39da11f68a33"
      },
      "execution_count": 48,
      "outputs": [
        {
          "output_type": "stream",
          "name": "stdout",
          "text": [
            "Train: 104\n",
            "Test: 45\n"
          ]
        }
      ]
    },
    {
      "cell_type": "code",
      "source": [
        "def euclideanDistance(instance1, instance2, length):\n",
        "    distance = 0\n",
        "    for x in range(length):\n",
        "        distance += pow((instance1[x] - instance2[x]), 2)\n",
        "    return math.sqrt(distance)\n",
        "\n",
        "# Example usage:\n",
        "data1 = [2, 2, 2, 'a']\n",
        "data2 = [4, 4, 4, 'b']\n",
        "distance = euclideanDistance(data1, data2, 3)\n",
        "print('Distance: ' + repr(distance))"
      ],
      "metadata": {
        "colab": {
          "base_uri": "https://localhost:8080/"
        },
        "id": "jEWABFQWdGln",
        "outputId": "7439d82f-2a74-4eac-87f2-8a8a200791e1"
      },
      "execution_count": 49,
      "outputs": [
        {
          "output_type": "stream",
          "name": "stdout",
          "text": [
            "Distance: 3.4641016151377544\n"
          ]
        }
      ]
    },
    {
      "cell_type": "code",
      "source": [
        "def getNeighbors(trainingSet, testInstance, k):\n",
        "    distances = []\n",
        "    length = len(testInstance) - 1\n",
        "    for x in range(len(trainingSet)):\n",
        "        dist = euclideanDistance(testInstance, trainingSet[x], length)\n",
        "        distances.append((trainingSet[x], dist))\n",
        "    distances.sort(key=operator.itemgetter(1))\n",
        "    neighbors = []\n",
        "    for x in range(k):\n",
        "        neighbors.append(distances[x][0])\n",
        "    return neighbors\n",
        "\n",
        "# Example usage:\n",
        "trainSet = [[2, 2, 2, 'a'], [4, 4, 4, 'b']]\n",
        "testInstance = [5, 5, 5]\n",
        "k = 1\n",
        "neighbors = getNeighbors(trainSet, testInstance, 1)\n",
        "print(neighbors)"
      ],
      "metadata": {
        "colab": {
          "base_uri": "https://localhost:8080/"
        },
        "id": "3bHCLAcUdLMB",
        "outputId": "0c7d5529-d0d9-4bb3-a3e9-06dfb46349df"
      },
      "execution_count": 50,
      "outputs": [
        {
          "output_type": "stream",
          "name": "stdout",
          "text": [
            "[[4, 4, 4, 'b']]\n"
          ]
        }
      ]
    },
    {
      "cell_type": "code",
      "source": [
        "def getResponse(neighbors):\n",
        "    classVotes = {}\n",
        "    for x in range(len(neighbors)):\n",
        "        response = neighbors[x][-1]\n",
        "        if response in classVotes:\n",
        "            classVotes[response] += 1\n",
        "        else:\n",
        "            classVotes[response] = 1\n",
        "    sortedVotes = sorted(classVotes.items(), key=operator.itemgetter(1), reverse=True)\n",
        "    return sortedVotes[0][0]\n",
        "\n",
        "# Example usage:\n",
        "neighbors = [[1,1,1,'a'], [2,2,2,'a'], [3,3,3,'b']]\n",
        "response = getResponse(neighbors)\n",
        "print(response)"
      ],
      "metadata": {
        "colab": {
          "base_uri": "https://localhost:8080/"
        },
        "id": "Tnu96SXZdN1x",
        "outputId": "dcdbf01c-5445-4b21-cb24-98967460b97e"
      },
      "execution_count": 51,
      "outputs": [
        {
          "output_type": "stream",
          "name": "stdout",
          "text": [
            "a\n"
          ]
        }
      ]
    },
    {
      "cell_type": "code",
      "source": [
        "def getAccuracy(testSet, predictions):\n",
        "    correct = 0\n",
        "    for x in range(len(testSet)):\n",
        "        if testSet[x][-1] == predictions[x]:\n",
        "            correct += 1\n",
        "    return (correct/float(len(testSet))) * 100.0\n",
        "\n",
        "# Example usage:\n",
        "testSet = [[1,1,1,'a'], [2,2,2,'a'], [3,3,3,'b']]\n",
        "predictions = ['a', 'a', 'a']\n",
        "accuracy = getAccuracy(testSet, predictions)\n",
        "print(accuracy)"
      ],
      "metadata": {
        "colab": {
          "base_uri": "https://localhost:8080/"
        },
        "id": "UzRd60L5dQFl",
        "outputId": "18a49024-c0d9-4aad-87cc-5c28d1178cc0"
      },
      "execution_count": 52,
      "outputs": [
        {
          "output_type": "stream",
          "name": "stdout",
          "text": [
            "66.66666666666666\n"
          ]
        }
      ]
    },
    {
      "cell_type": "code",
      "source": [
        "def main():\n",
        "    trainingSet = []\n",
        "    testSet = []\n",
        "    loadDataset('/content/drive/MyDrive/Colab Notebooks/iris.data.txt', 0.66, trainingSet, testSet)\n",
        "    print('Train: ' + repr(len(trainingSet)))\n",
        "    print('Test: ' + repr(len(testSet)))\n",
        "\n",
        "    k = 3\n",
        "    predictions = []\n",
        "    for x in range(len(testSet)):\n",
        "        neighbors = getNeighbors(trainingSet, testSet[x], k)\n",
        "        result = getResponse(neighbors)\n",
        "        predictions.append(result)\n",
        "        print(f'Predicted: {result}, Actual: {testSet[x][-1]}')\n",
        "\n",
        "    accuracy = getAccuracy(testSet, predictions)\n",
        "    print(f'Accuracy: {accuracy}%')\n",
        "\n",
        "if __name__ == \"__main__\":\n",
        "    main()"
      ],
      "metadata": {
        "colab": {
          "base_uri": "https://localhost:8080/"
        },
        "id": "0aJw5T7HdUe8",
        "outputId": "73654b5a-d5d6-4891-cd27-9aeb7c4c9a9e"
      },
      "execution_count": 53,
      "outputs": [
        {
          "output_type": "stream",
          "name": "stdout",
          "text": [
            "Train: 108\n",
            "Test: 41\n",
            "Predicted: Iris-setosa, Actual: Iris-setosa\n",
            "Predicted: Iris-setosa, Actual: Iris-setosa\n",
            "Predicted: Iris-setosa, Actual: Iris-setosa\n",
            "Predicted: Iris-setosa, Actual: Iris-setosa\n",
            "Predicted: Iris-setosa, Actual: Iris-setosa\n",
            "Predicted: Iris-setosa, Actual: Iris-setosa\n",
            "Predicted: Iris-setosa, Actual: Iris-setosa\n",
            "Predicted: Iris-setosa, Actual: Iris-setosa\n",
            "Predicted: Iris-setosa, Actual: Iris-setosa\n",
            "Predicted: Iris-setosa, Actual: Iris-setosa\n",
            "Predicted: Iris-setosa, Actual: Iris-setosa\n",
            "Predicted: Iris-setosa, Actual: Iris-setosa\n",
            "Predicted: Iris-setosa, Actual: Iris-setosa\n",
            "Predicted: Iris-setosa, Actual: Iris-setosa\n",
            "Predicted: Iris-setosa, Actual: Iris-setosa\n",
            "Predicted: Iris-setosa, Actual: Iris-setosa\n",
            "Predicted: Iris-setosa, Actual: Iris-setosa\n",
            "Predicted: Iris-setosa, Actual: Iris-setosa\n",
            "Predicted: Iris-setosa, Actual: Iris-setosa\n",
            "Predicted: Iris-versicolor, Actual: Iris-versicolor\n",
            "Predicted: Iris-versicolor, Actual: Iris-versicolor\n",
            "Predicted: Iris-versicolor, Actual: Iris-versicolor\n",
            "Predicted: Iris-versicolor, Actual: Iris-versicolor\n",
            "Predicted: Iris-versicolor, Actual: Iris-versicolor\n",
            "Predicted: Iris-virginica, Actual: Iris-versicolor\n",
            "Predicted: Iris-versicolor, Actual: Iris-versicolor\n",
            "Predicted: Iris-versicolor, Actual: Iris-versicolor\n",
            "Predicted: Iris-versicolor, Actual: Iris-versicolor\n",
            "Predicted: Iris-versicolor, Actual: Iris-versicolor\n",
            "Predicted: Iris-versicolor, Actual: Iris-versicolor\n",
            "Predicted: Iris-virginica, Actual: Iris-virginica\n",
            "Predicted: Iris-virginica, Actual: Iris-virginica\n",
            "Predicted: Iris-virginica, Actual: Iris-virginica\n",
            "Predicted: Iris-virginica, Actual: Iris-virginica\n",
            "Predicted: Iris-virginica, Actual: Iris-virginica\n",
            "Predicted: Iris-virginica, Actual: Iris-virginica\n",
            "Predicted: Iris-virginica, Actual: Iris-virginica\n",
            "Predicted: Iris-virginica, Actual: Iris-virginica\n",
            "Predicted: Iris-virginica, Actual: Iris-virginica\n",
            "Predicted: Iris-virginica, Actual: Iris-virginica\n",
            "Predicted: Iris-virginica, Actual: Iris-virginica\n",
            "Accuracy: 97.5609756097561%\n"
          ]
        }
      ]
    },
    {
      "cell_type": "code",
      "source": [
        "def manhattanDistance(instance1, instance2, length):\n",
        "    distance = 0\n",
        "    for x in range(length):\n",
        "        distance += abs(instance1[x] - instance2[x])\n",
        "    return distance\n",
        "\n",
        "# Example usage:\n",
        "data1 = [2, 2, 2, 'a']\n",
        "data2 = [4, 4, 4, 'b']\n",
        "distance = euclideanDistance(data1, data2, 3)\n",
        "print('Distance: ' + repr(distance))"
      ],
      "metadata": {
        "colab": {
          "base_uri": "https://localhost:8080/"
        },
        "id": "Q84PkAyWddzj",
        "outputId": "4c1c83c7-403f-4d86-8319-af8172fb8867"
      },
      "execution_count": 54,
      "outputs": [
        {
          "output_type": "stream",
          "name": "stdout",
          "text": [
            "Distance: 3.4641016151377544\n"
          ]
        }
      ]
    }
  ]
}