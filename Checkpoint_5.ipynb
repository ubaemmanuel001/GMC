{
  "nbformat": 4,
  "nbformat_minor": 0,
  "metadata": {
    "colab": {
      "provenance": [],
      "mount_file_id": "1X-HxUTmrwf92KGbs6Ff2FN_9XMRKPslo",
      "authorship_tag": "ABX9TyM3Gd6j5mV8TIcroJ+agkXJ"
    },
    "kernelspec": {
      "name": "python3",
      "display_name": "Python 3"
    },
    "language_info": {
      "name": "python"
    }
  },
  "cells": [
    {
      "cell_type": "markdown",
      "source": [
        "#Checkpoint 5\n",
        "\n",
        "Implement KNN from scratch\n",
        "The test problem we will be using in this tutorial is the iris classification.\n",
        "\n",
        "The problem consists of 150 observations of iris flowers from three different species. There are 4 measurements of given flowers: sepal length, sepal width, petal length, and petal width (all in the same unit of centimeters). The predicted attribute is the species, which is either Setosa, Versicolor, or Virginica.\n",
        "\n",
        "It is a standard dataset where the species is known for all instances. As such we can split the data into training and test datasets and use the results to evaluate our algorithm implementation. Good classification accuracy on this problem is above 90% correct (typically 96% or better).\n",
        "\n",
        "Save the file in your current working directory with the file name “iris.data“.\n",
        "\n",
        "This tutorial is broken down into the following steps:\n",
        "\n",
        "Handle Data: Open the dataset from CSV and split it into test/train datasets.\n",
        "\n",
        "Similarity: Calculate the distance between two data instances.\n",
        "\n",
        "Neighbors: Locate k for most similar data instances.\n",
        "\n",
        "Response: Generate a response from a set of data instances.\n",
        "\n",
        "Accuracy: Summarize the accuracy of predictions.\n",
        "\n",
        "Main: Tie it all together.\n",
        "\n",
        "1. Handle Data\n",
        "\n",
        "The first thing we need to do is load our data file.\n",
        "\n",
        "import csv\n",
        "\n",
        "with open('iris.data.txt', 'r') as csvfile:\n",
        "\n",
        "lines = csv.reader(csvfile)\n",
        "\n",
        "for row in lines :\n",
        "\n",
        "print (', '.join(row))\n",
        "\n",
        "Next we need to split the data into a training dataset\n",
        "\n",
        "import csv\n",
        "\n",
        "import random\n",
        "\n",
        "def loadDataset(filename, split, trainingSet=[] , testSet=[]):\n",
        "\n",
        "with open(filename, 'r') as csvfile:\n",
        "\n",
        "  lines = csv.reader(csvfile)\n",
        "\n",
        "  dataset = list(lines)\n",
        "\n",
        "  for x in range(len(dataset)-1):\n",
        "\n",
        "    for y in range(4):\n",
        "\n",
        "      dataset[x][y] = float(dataset[x][y])\n",
        "\n",
        "    if random.random() < split:\n",
        "\n",
        "      complete code\n",
        "\n",
        "    else:\n",
        "\n",
        "      complete code\n",
        "\n",
        "We can test this function out with our iris dataset, as follows:\n",
        "\n",
        "trainingSet=[]\n",
        "\n",
        "testSet=[]\n",
        "\n",
        "loadDataset('iris.data', 0.66, trainingSet, testSet)\n",
        "\n",
        "print ('Train: ' + repr(len(trainingSet)))\n",
        "\n",
        "print ('Test: ' + repr(len(testSet)) )\n",
        "\n",
        "2. Similarity\n",
        "\n",
        "To make predictions we need to calculate the similarity between any two given data instances. This is needed so that we can locate the k most similar data instances in the training dataset for a given member of the test dataset and in turn, make a prediction.\n",
        "\n",
        "Given that all four flower measurements are numeric and have the same units, we can directly use the Euclidean distance measure.\n",
        "\n",
        "Additionally, we want to control which fields to include in the distance calculation. Specifically, we only want to include the first 4 attributes. One approach is to limit the Euclidean distance to a fixed length, ignoring the final dimension.\n",
        "\n",
        "Putting all of this together, you have to define the Euclidean distance\n",
        "\n",
        "import math\n",
        "\n",
        "def euclideanDistance(instance1, instance2, length):\n",
        "\n",
        "      Complete the function\n",
        "\n",
        "Note here that\n",
        "\n",
        "The number of elements in the instance1 equals the number of elements in the instance2\n",
        "\n",
        "The length refers to the number of elements in the instance1\n",
        "\n",
        "We can test this function with some sample data, as follows:\n",
        "\n",
        "data1 = [2, 2, 2, 'a']\n",
        "\n",
        "data2 = [4, 4, 4, 'b']\n",
        "\n",
        "distance = euclideanDistance(data1, data2, 3)\n",
        "\n",
        "print 'Distance: ' + repr(distance)\n",
        "\n",
        "3. Neighbors\n",
        "\n",
        "Now that we have a similarity measure, we can use it to collect the k most similar instances for a given unseen instance.\n",
        "\n",
        "This is a straightforward process of calculating the distance for all instances and selecting a subset with the smallest distance values.\n",
        "\n",
        "Below is the getNeighbors function that returns k most similar neighbors from the training set for a given test instance (using the already defined euclideanDistance function)\n",
        "\n",
        "import operator\n",
        "\n",
        "def getNeighbors(trainingSet, testInstance, k):\n",
        "\n",
        "distances = []\n",
        "\n",
        "length = len(testInstance)-1\n",
        "\n",
        "for x in range(len(trainingSet)):\n",
        "\n",
        "dist = euclideanDistance(testInstance, trainingSet[x], length)\n",
        "\n",
        "distances.append((trainingSet[x], dist))\n",
        "\n",
        "distances.sort(key=operator.itemgetter(1))\n",
        "\n",
        "neighbors = []\n",
        "\n",
        "for x in range(k):\n",
        "\n",
        "neighbors.append(distances[x][0])\n",
        "\n",
        "return neighbors\n",
        "\n",
        "We can test out this function as follows:\n",
        "\n",
        "trainSet = [[2, 2, 2, 'a'], [4, 4, 4, 'b']]\n",
        "\n",
        "testInstance = [5, 5, 5]\n",
        "\n",
        "k = 1\n",
        "\n",
        "neighbors = getNeighbors(trainSet, testInstance, 1)\n",
        "\n",
        "print(neighbors)\n",
        "\n",
        "4. Response\n",
        "\n",
        "Once we have located the most similar neighbors for a test instance, the next task is to devise a predicted response based on those neighbors.\n",
        "\n",
        "We can do this by allowing each neighbor to vote for their class attribute, and taking the majority vote as the prediction.\n",
        "\n",
        "Below is a function for getting the majority voted response from a number of neighbors. It assumes the class is the last attribute for each neighbor.\n",
        "\n",
        "import operator\n",
        "\n",
        "def getResponse(neighbors):\n",
        "\n",
        "classVotes = {}\n",
        "\n",
        "for x in range(len(neighbors)):\n",
        "\n",
        "response = neighbors[x][ ? ] #complete with appropriate number\n",
        "\n",
        "if response in classVotes:\n",
        "\n",
        "Complete the if clause\n",
        "\n",
        "sortedVotes = sorted(classVotes.items(), key=operator.itemgetter(1), reverse=True)\n",
        "\n",
        "return sortedVotes[0][0]\n",
        "\n",
        "We can test out this function with some test neighbors, as follows:\n",
        "\n",
        "neighbors = [[1,1,1,'a'], [2,2,2,'a'], [3,3,3,'b']]\n",
        "\n",
        "response = getResponse(neighbors)\n",
        "\n",
        "print(response)\n",
        "\n",
        "This approach returns one response in the case of a draw, but you could handle such cases in a specific way, such as returning no response or selecting an unbiased random response.\n",
        "\n",
        "5. Accuracy\n",
        "\n",
        "We have all of the pieces of the KNN algorithm in place. An important remaining concern is how to evaluate the accuracy of predictions.\n",
        "\n",
        "An easy way to evaluate the accuracy of the model is to calculate a ratio of the total correct predictions out of all predictions made, called classification accuracy.\n",
        "\n",
        "Below is the getAccuracy function that sums the total correct predictions and returns the accuracy as a percentage of correct classifications.\n",
        "\n",
        "def getAccuracy(testSet, predictions):\n",
        "\n",
        "Complete the function\n",
        "\n",
        "return (correct/float(len(testSet))) * 100.0\n",
        "\n",
        "We can test this function with a test dataset and predictions, as follows:\n",
        "\n",
        "testSet = [[1,1,1,'a'], [2,2,2,'a'], [3,3,3,'b']]\n",
        "\n",
        "predictions = ['a', 'a', 'a']\n",
        "\n",
        "accuracy = getAccuracy(testSet, predictions)\n",
        "\n",
        "print(accuracy)\n",
        "\n",
        "6. Main\n",
        "\n",
        "We now have all the elements of the algorithm and  you can put them all in one main function\n",
        "\n",
        "7. Another distance metric\n",
        "\n",
        "In this part, you are asked to define another distance metric in addition to the Euclidean distance."
      ],
      "metadata": {
        "id": "ZFaIeuzXc4_J"
      }
    },
    {
      "cell_type": "markdown",
      "source": [
        "#1. Handle Data"
      ],
      "metadata": {
        "id": "F4mQOOs1ijH5"
      }
    },
    {
      "cell_type": "code",
      "source": [
        "import csv\n",
        "import random\n",
        "import math\n",
        "import operator\n",
        "\n",
        "\n",
        "def loadDataset(filename, split, trainingSet=[], testSet=[]):\n",
        "    with open(filename, 'r') as csvfile:\n",
        "        lines = csv.reader(csvfile)\n",
        "        dataset = list(lines)\n",
        "        for x in range(len(dataset)-1):\n",
        "            for y in range(4):\n",
        "                dataset[x][y] = float(dataset[x][y])\n",
        "            if random.random() < split:\n",
        "                trainingSet.append(dataset[x])\n",
        "            else:\n",
        "                testSet.append(dataset[x])\n",
        "\n",
        "# Example usage:\n",
        "trainingSet = []\n",
        "testSet = []\n",
        "loadDataset('/content/drive/MyDrive/Colab Notebooks/iris.data.txt', 0.66, trainingSet, testSet)\n",
        "print('Train: ' + repr(len(trainingSet)))\n",
        "print('Test: ' + repr(len(testSet)))"
      ],
      "metadata": {
        "colab": {
          "base_uri": "https://localhost:8080/"
        },
        "id": "zthiPbsmc7dc",
        "outputId": "7819e5a1-ae59-4f05-9e13-39da11f68a33"
      },
      "execution_count": 48,
      "outputs": [
        {
          "output_type": "stream",
          "name": "stdout",
          "text": [
            "Train: 104\n",
            "Test: 45\n"
          ]
        }
      ]
    },
    {
      "cell_type": "markdown",
      "source": [
        "#2 Similarity"
      ],
      "metadata": {
        "id": "aDu-1jmKiyLo"
      }
    },
    {
      "cell_type": "code",
      "source": [
        "def euclideanDistance(instance1, instance2, length):\n",
        "    distance = 0\n",
        "    for x in range(length):\n",
        "        distance += pow((instance1[x] - instance2[x]), 2)\n",
        "    return math.sqrt(distance)\n",
        "\n",
        "# Example usage:\n",
        "data1 = [2, 2, 2, 'a']\n",
        "data2 = [4, 4, 4, 'b']\n",
        "distance = euclideanDistance(data1, data2, 3)\n",
        "print('Distance: ' + repr(distance))"
      ],
      "metadata": {
        "colab": {
          "base_uri": "https://localhost:8080/"
        },
        "id": "jEWABFQWdGln",
        "outputId": "7439d82f-2a74-4eac-87f2-8a8a200791e1"
      },
      "execution_count": 49,
      "outputs": [
        {
          "output_type": "stream",
          "name": "stdout",
          "text": [
            "Distance: 3.4641016151377544\n"
          ]
        }
      ]
    },
    {
      "cell_type": "markdown",
      "source": [
        "#3 Neighbors"
      ],
      "metadata": {
        "id": "hm_avQbBi1CN"
      }
    },
    {
      "cell_type": "code",
      "source": [
        "def getNeighbors(trainingSet, testInstance, k):\n",
        "    distances = []\n",
        "    length = len(testInstance) - 1\n",
        "    for x in range(len(trainingSet)):\n",
        "        dist = euclideanDistance(testInstance, trainingSet[x], length)\n",
        "        distances.append((trainingSet[x], dist))\n",
        "    distances.sort(key=operator.itemgetter(1))\n",
        "    neighbors = []\n",
        "    for x in range(k):\n",
        "        neighbors.append(distances[x][0])\n",
        "    return neighbors\n",
        "\n",
        "# Example usage:\n",
        "trainSet = [[2, 2, 2, 'a'], [4, 4, 4, 'b']]\n",
        "testInstance = [5, 5, 5]\n",
        "k = 1\n",
        "neighbors = getNeighbors(trainSet, testInstance, 1)\n",
        "print(neighbors)"
      ],
      "metadata": {
        "colab": {
          "base_uri": "https://localhost:8080/"
        },
        "id": "3bHCLAcUdLMB",
        "outputId": "0c7d5529-d0d9-4bb3-a3e9-06dfb46349df"
      },
      "execution_count": 50,
      "outputs": [
        {
          "output_type": "stream",
          "name": "stdout",
          "text": [
            "[[4, 4, 4, 'b']]\n"
          ]
        }
      ]
    },
    {
      "cell_type": "markdown",
      "source": [
        "#4 Response"
      ],
      "metadata": {
        "id": "tyVca8gfjAu1"
      }
    },
    {
      "cell_type": "code",
      "source": [
        "def getResponse(neighbors):\n",
        "    classVotes = {}\n",
        "    for x in range(len(neighbors)):\n",
        "        response = neighbors[x][-1]\n",
        "        if response in classVotes:\n",
        "            classVotes[response] += 1\n",
        "        else:\n",
        "            classVotes[response] = 1\n",
        "    sortedVotes = sorted(classVotes.items(), key=operator.itemgetter(1), reverse=True)\n",
        "    return sortedVotes[0][0]\n",
        "\n",
        "# Example usage:\n",
        "neighbors = [[1,1,1,'a'], [2,2,2,'a'], [3,3,3,'b']]\n",
        "response = getResponse(neighbors)\n",
        "print(response)"
      ],
      "metadata": {
        "colab": {
          "base_uri": "https://localhost:8080/"
        },
        "id": "Tnu96SXZdN1x",
        "outputId": "dcdbf01c-5445-4b21-cb24-98967460b97e"
      },
      "execution_count": 51,
      "outputs": [
        {
          "output_type": "stream",
          "name": "stdout",
          "text": [
            "a\n"
          ]
        }
      ]
    },
    {
      "cell_type": "markdown",
      "source": [
        "#5 Accuracy"
      ],
      "metadata": {
        "id": "mRgYB3VAjFbo"
      }
    },
    {
      "cell_type": "code",
      "source": [
        "def getAccuracy(testSet, predictions):\n",
        "    correct = 0\n",
        "    for x in range(len(testSet)):\n",
        "        if testSet[x][-1] == predictions[x]:\n",
        "            correct += 1\n",
        "    return (correct/float(len(testSet))) * 100.0\n",
        "\n",
        "# Example usage:\n",
        "testSet = [[1,1,1,'a'], [2,2,2,'a'], [3,3,3,'b']]\n",
        "predictions = ['a', 'a', 'a']\n",
        "accuracy = getAccuracy(testSet, predictions)\n",
        "print(accuracy)"
      ],
      "metadata": {
        "colab": {
          "base_uri": "https://localhost:8080/"
        },
        "id": "UzRd60L5dQFl",
        "outputId": "18a49024-c0d9-4aad-87cc-5c28d1178cc0"
      },
      "execution_count": 52,
      "outputs": [
        {
          "output_type": "stream",
          "name": "stdout",
          "text": [
            "66.66666666666666\n"
          ]
        }
      ]
    },
    {
      "cell_type": "markdown",
      "source": [
        "#6 Main"
      ],
      "metadata": {
        "id": "JCaEJTIfjN-w"
      }
    },
    {
      "cell_type": "code",
      "source": [
        "def main():\n",
        "    trainingSet = []\n",
        "    testSet = []\n",
        "    loadDataset('/content/drive/MyDrive/Colab Notebooks/iris.data.txt', 0.66, trainingSet, testSet)\n",
        "    print('Train: ' + repr(len(trainingSet)))\n",
        "    print('Test: ' + repr(len(testSet)))\n",
        "\n",
        "    k = 3\n",
        "    predictions = []\n",
        "    for x in range(len(testSet)):\n",
        "        neighbors = getNeighbors(trainingSet, testSet[x], k)\n",
        "        result = getResponse(neighbors)\n",
        "        predictions.append(result)\n",
        "        print(f'Predicted: {result}, Actual: {testSet[x][-1]}')\n",
        "\n",
        "    accuracy = getAccuracy(testSet, predictions)\n",
        "    print(f'Accuracy: {accuracy}%')\n",
        "\n",
        "if __name__ == \"__main__\":\n",
        "    main()"
      ],
      "metadata": {
        "colab": {
          "base_uri": "https://localhost:8080/"
        },
        "id": "0aJw5T7HdUe8",
        "outputId": "73654b5a-d5d6-4891-cd27-9aeb7c4c9a9e"
      },
      "execution_count": 53,
      "outputs": [
        {
          "output_type": "stream",
          "name": "stdout",
          "text": [
            "Train: 108\n",
            "Test: 41\n",
            "Predicted: Iris-setosa, Actual: Iris-setosa\n",
            "Predicted: Iris-setosa, Actual: Iris-setosa\n",
            "Predicted: Iris-setosa, Actual: Iris-setosa\n",
            "Predicted: Iris-setosa, Actual: Iris-setosa\n",
            "Predicted: Iris-setosa, Actual: Iris-setosa\n",
            "Predicted: Iris-setosa, Actual: Iris-setosa\n",
            "Predicted: Iris-setosa, Actual: Iris-setosa\n",
            "Predicted: Iris-setosa, Actual: Iris-setosa\n",
            "Predicted: Iris-setosa, Actual: Iris-setosa\n",
            "Predicted: Iris-setosa, Actual: Iris-setosa\n",
            "Predicted: Iris-setosa, Actual: Iris-setosa\n",
            "Predicted: Iris-setosa, Actual: Iris-setosa\n",
            "Predicted: Iris-setosa, Actual: Iris-setosa\n",
            "Predicted: Iris-setosa, Actual: Iris-setosa\n",
            "Predicted: Iris-setosa, Actual: Iris-setosa\n",
            "Predicted: Iris-setosa, Actual: Iris-setosa\n",
            "Predicted: Iris-setosa, Actual: Iris-setosa\n",
            "Predicted: Iris-setosa, Actual: Iris-setosa\n",
            "Predicted: Iris-setosa, Actual: Iris-setosa\n",
            "Predicted: Iris-versicolor, Actual: Iris-versicolor\n",
            "Predicted: Iris-versicolor, Actual: Iris-versicolor\n",
            "Predicted: Iris-versicolor, Actual: Iris-versicolor\n",
            "Predicted: Iris-versicolor, Actual: Iris-versicolor\n",
            "Predicted: Iris-versicolor, Actual: Iris-versicolor\n",
            "Predicted: Iris-virginica, Actual: Iris-versicolor\n",
            "Predicted: Iris-versicolor, Actual: Iris-versicolor\n",
            "Predicted: Iris-versicolor, Actual: Iris-versicolor\n",
            "Predicted: Iris-versicolor, Actual: Iris-versicolor\n",
            "Predicted: Iris-versicolor, Actual: Iris-versicolor\n",
            "Predicted: Iris-versicolor, Actual: Iris-versicolor\n",
            "Predicted: Iris-virginica, Actual: Iris-virginica\n",
            "Predicted: Iris-virginica, Actual: Iris-virginica\n",
            "Predicted: Iris-virginica, Actual: Iris-virginica\n",
            "Predicted: Iris-virginica, Actual: Iris-virginica\n",
            "Predicted: Iris-virginica, Actual: Iris-virginica\n",
            "Predicted: Iris-virginica, Actual: Iris-virginica\n",
            "Predicted: Iris-virginica, Actual: Iris-virginica\n",
            "Predicted: Iris-virginica, Actual: Iris-virginica\n",
            "Predicted: Iris-virginica, Actual: Iris-virginica\n",
            "Predicted: Iris-virginica, Actual: Iris-virginica\n",
            "Predicted: Iris-virginica, Actual: Iris-virginica\n",
            "Accuracy: 97.5609756097561%\n"
          ]
        }
      ]
    },
    {
      "cell_type": "markdown",
      "source": [
        "#7 Another distance metric"
      ],
      "metadata": {
        "id": "cJLWgTc4jQx2"
      }
    },
    {
      "cell_type": "code",
      "source": [
        "def manhattanDistance(instance1, instance2, length):\n",
        "    distance = 0\n",
        "    for x in range(length):\n",
        "        distance += abs(instance1[x] - instance2[x])\n",
        "    return distance\n",
        "\n",
        "# Example usage:\n",
        "data1 = [2, 2, 2, 'a']\n",
        "data2 = [4, 4, 4, 'b']\n",
        "distance = euclideanDistance(data1, data2, 3)\n",
        "print('Distance: ' + repr(distance))"
      ],
      "metadata": {
        "colab": {
          "base_uri": "https://localhost:8080/"
        },
        "id": "Q84PkAyWddzj",
        "outputId": "4c1c83c7-403f-4d86-8319-af8172fb8867"
      },
      "execution_count": 54,
      "outputs": [
        {
          "output_type": "stream",
          "name": "stdout",
          "text": [
            "Distance: 3.4641016151377544\n"
          ]
        }
      ]
    }
  ]
}